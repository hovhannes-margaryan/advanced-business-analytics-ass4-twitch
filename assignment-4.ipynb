{
 "cells": [
  {
   "cell_type": "code",
   "execution_count": 1,
   "id": "d23672e4-37f7-4c2b-9dd8-c0014fb8bd43",
   "metadata": {
    "tags": []
   },
   "outputs": [
    {
     "name": "stderr",
     "output_type": "stream",
     "text": [
      "/home/hovhannes/.local/lib/python3.8/site-packages/pandas/core/computation/expressions.py:20: UserWarning: Pandas requires version '2.7.3' or newer of 'numexpr' (version '2.7.1' currently installed).\n",
      "  from pandas.core.computation.check import NUMEXPR_INSTALLED\n"
     ]
    }
   ],
   "source": [
    "import pandas as pd\n",
    "from sklearn.model_selection import train_test_split\n",
    "from sklearn.linear_model import LinearRegression\n",
    "import copy\n",
    "import matplotlib.pyplot as plt\n",
    "from dowhy import CausalModel"
   ]
  },
  {
   "cell_type": "code",
   "execution_count": 2,
   "id": "f8e93e05-0741-4908-a3f1-a4ac13556a13",
   "metadata": {
    "tags": []
   },
   "outputs": [
    {
     "name": "stdout",
     "output_type": "stream",
     "text": [
      "number of streamers in a squad: 8257\n",
      "number of streamers not in a squad: 15427\n"
     ]
    }
   ],
   "source": [
    "in_a_squad = pd.read_csv(\"streamer_in_squad.csv\")\n",
    "not_in_a_squad = pd.read_csv(\"streamers_not_in_a_squad.csv\")\n",
    "df = pd.concat([in_a_squad, not_in_a_squad])\n",
    "df.dropna(inplace=True)\n",
    "df.reset_index(inplace=True, drop=True)\n",
    "in_a_squad = df[df.squad_name != \"no squad\"]\n",
    "not_in_a_squad = df[df.squad_name == \"no squad\"]\n",
    "print(f\"number of streamers in a squad: {len(in_a_squad)}\")\n",
    "print(f\"number of streamers not in a squad: {len(not_in_a_squad)}\") \n",
    "df[\"treatment\"] = df['squad_name'].apply(lambda x: True if x !=  \"no squad\" else False)"
   ]
  },
  {
   "cell_type": "code",
   "execution_count": 3,
   "id": "eeaeed62-ede2-492e-895e-a2b405c4141c",
   "metadata": {},
   "outputs": [
    {
     "name": "stdout",
     "output_type": "stream",
     "text": [
      "4.0\n",
      "18519587.0\n"
     ]
    }
   ],
   "source": [
    "print(df.followers.min())\n",
    "print(df.followers.max())"
   ]
  },
  {
   "cell_type": "code",
   "execution_count": 4,
   "id": "b06da396-c363-4103-9110-50a148adb175",
   "metadata": {},
   "outputs": [
    {
     "name": "stderr",
     "output_type": "stream",
     "text": [
      "/tmp/ipykernel_30255/2987514131.py:10: FutureWarning: The default value of numeric_only in DataFrameGroupBy.mean is deprecated. In a future version, numeric_only will default to False. Either specify numeric_only or select only columns which should be valid for the function.\n",
      "  grouped_df = df.groupby('treatment').mean()\n"
     ]
    },
    {
     "data": {
      "image/png": "[encoded data removed]",
      "text/plain": [
       "<Figure size 432x288 with 1 Axes>"
      ]
     },
     "metadata": {
      "needs_background": "light"
     },
     "output_type": "display_data"
    }
   ],
   "source": [
    "df.followers -= df.followers.min()\n",
    "df.followers /= df.followers.max()\n",
    "\n",
    "df.nr_streams -= df.nr_streams.min()\n",
    "df.nr_streams /= df.nr_streams.max()\n",
    "\n",
    "df.views_avg -= df.views_avg.min()\n",
    "df.views_avg /= df.views_avg.max()\n",
    "\n",
    "grouped_df = df.groupby('treatment').mean()\n",
    "\n",
    "# Get the feature names\n",
    "features = [\"followers\", \"nr_streams\", \"views_avg\"]\n",
    "\n",
    "# Set the width of each bar\n",
    "bar_width = 0.2\n",
    "\n",
    "# Set the positions of the bars on the x-axis\n",
    "r1 = range(len(grouped_df))\n",
    "r2 = [x + bar_width for x in r1]\n",
    "r3 = [x + bar_width for x in r2]\n",
    "\n",
    "# Create the barplot\n",
    "plt.bar(r1, grouped_df['followers'], color='#4C4C6D', width=bar_width, label='Average Followers')\n",
    "plt.bar(r2, grouped_df['nr_streams'], color='#1B9C85', width=bar_width, label='Avgerage Number of Streams')\n",
    "plt.bar(r3, grouped_df['views_avg'], color='#FFE194', width=bar_width, label='Avgerage of Average Views')\n",
    "\n",
    "# Set the x-axis labels\n",
    "plt.xticks([r + bar_width for r in range(len(grouped_df))], grouped_df.index)\n",
    "\n",
    "# Set the y-axis label\n",
    "plt.ylabel('Mean')\n",
    "plt.xlabel('Squad Indicator')\n",
    "\n",
    "# Add a legend\n",
    "plt.legend()\n",
    "\n",
    "# Show the plot\n",
    "plt.show()"
   ]
  },
  {
   "cell_type": "code",
   "execution_count": 5,
   "id": "ab53e019-7ef3-4d15-b5d4-78cc40736f2b",
   "metadata": {},
   "outputs": [
    {
     "data": {
      "image/png": "[encoded data removed]",
      "text/latex": [
       "$\\displaystyle 0.00391771645440022$"
      ],
      "text/plain": [
       "0.003917716454400225"
      ]
     },
     "execution_count": 5,
     "metadata": {},
     "output_type": "execute_result"
    }
   ],
   "source": [
    "df[df[\"treatment\"] == True].followers.mean() - df[df[\"treatment\"] == False].followers.mean()"
   ]
  },
  {
   "cell_type": "code",
   "execution_count": 6,
   "id": "267f00c2-0002-403f-acbb-d291cab6fd26",
   "metadata": {
    "tags": []
   },
   "outputs": [
    {
     "name": "stdout",
     "output_type": "stream",
     "text": [
      "*** Causal Estimate ***\n",
      "\n",
      "## Identified estimand\n",
      "Estimand type: EstimandType.NONPARAMETRIC_ATE\n",
      "\n",
      "### Estimand : 1\n",
      "Estimand name: backdoor\n",
      "Estimand expression:\n",
      "     d                                         \n",
      "────────────(E[followers|nr_streams,views_avg])\n",
      "d[treatment]                                   \n",
      "Estimand assumption 1, Unconfoundedness: If U→{treatment} and U→followers then P(followers|treatment,nr_streams,views_avg,U) = P(followers|treatment,nr_streams,views_avg)\n",
      "\n",
      "## Realized estimand\n",
      "b: followers~treatment+nr_streams+views_avg\n",
      "Target units: ate\n",
      "\n",
      "## Estimate\n",
      "Mean value: 0.0013307039458954686\n",
      "\n",
      "Causal Estimate is 0.0013307039458954686\n"
     ]
    }
   ],
   "source": [
    "common_causes = [\"nr_streams\", \"views_avg\"]\n",
    "model = CausalModel(data = df, treatment = \"treatment\", outcome ='followers', common_causes = common_causes)\n",
    "identified_estimand = model.identify_effect(proceed_when_unidentifiable=True)\n",
    "estimate = model.estimate_effect(identified_estimand,\n",
    "                                 method_name=\"backdoor.propensity_score_weighting\",\n",
    "                                 target_units=\"ate\", confidence_intervals=True)\n",
    "print(estimate)\n",
    "print(\"Causal Estimate is \" + str(estimate.value))"
   ]
  },
  {
   "cell_type": "code",
   "execution_count": 7,
   "id": "d2df54aa-6ad8-40fb-beb7-1bbff21432ec",
   "metadata": {
    "tags": []
   },
   "outputs": [
    {
     "data": {
      "image/png": "[encoded data removed]",
      "text/latex": [
       "$\\displaystyle \\left( 0.000762884001548699, \\  0.00185784965589557\\right)$"
      ],
      "text/plain": [
       "(0.0007628840015486988, 0.0018578496558955679)"
      ]
     },
     "execution_count": 7,
     "metadata": {},
     "output_type": "execute_result"
    }
   ],
   "source": [
    "estimate.get_confidence_intervals(confidence_level=0.9, num_simulations=1000)"
   ]
  },
  {
   "cell_type": "code",
   "execution_count": 8,
   "id": "de567e51-9384-4e5d-8b5e-3d19a3520aec",
   "metadata": {
    "tags": []
   },
   "outputs": [
    {
     "data": {
      "text/plain": [
       "{'p_value': (0, 0.001)}"
      ]
     },
     "execution_count": 8,
     "metadata": {},
     "output_type": "execute_result"
    }
   ],
   "source": [
    "estimate.test_stat_significance()"
   ]
  },
  {
   "cell_type": "code",
   "execution_count": 9,
   "id": "657147d3-e5e7-4613-8378-1b37be0af13a",
   "metadata": {
    "tags": []
   },
   "outputs": [
    {
     "name": "stdout",
     "output_type": "stream",
     "text": [
      "Refute: Use a subset of data\n",
      "Estimated effect:0.0013307039458954686\n",
      "New effect:0.0013481726045924203\n",
      "p value:0.9199999999999999\n",
      "\n"
     ]
    }
   ],
   "source": [
    "refute3_results=model.refute_estimate(identified_estimand, estimate,\n",
    "        method_name=\"data_subset_refuter\")\n",
    "print(refute3_results)"
   ]
  },
  {
   "cell_type": "code",
   "execution_count": 10,
   "id": "847b65f7-f7ff-47b7-ba26-9ff6147d6680",
   "metadata": {
    "tags": []
   },
   "outputs": [
    {
     "name": "stdout",
     "output_type": "stream",
     "text": [
      "Refute: Use a Placebo Treatment\n",
      "Estimated effect:0.0013307039458954686\n",
      "New effect:-0.0028995068834321873\n",
      "p value:0.0\n",
      "\n"
     ]
    }
   ],
   "source": [
    "refute2_results=model.refute_estimate(identified_estimand, estimate,\n",
    "        method_name=\"placebo_treatment_refuter\")\n",
    "\n",
    "print(refute2_results)"
   ]
  }
 ],
 "metadata": {
  "kernelspec": {
   "display_name": "Python 3 (ipykernel)",
   "language": "python",
   "name": "python3"
  },
  "language_info": {
   "codemirror_mode": {
    "name": "ipython",
    "version": 3
   },
   "file_extension": ".py",
   "mimetype": "text/x-python",
   "name": "python",
   "nbconvert_exporter": "python",
   "pygments_lexer": "ipython3",
   "version": "3.8.10"
  }
 },
 "nbformat": 4,
 "nbformat_minor": 5
}
